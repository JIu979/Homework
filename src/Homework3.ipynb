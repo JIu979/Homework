{
 "cells": [
  {
   "cell_type": "markdown",
   "metadata": {},
   "source": [
    "1.编写 Python程序,判断输入a是否为质数"
   ]
  },
  {
   "cell_type": "code",
   "execution_count": 11,
   "metadata": {},
   "outputs": [
    {
     "name": "stdout",
     "output_type": "stream",
     "text": [
      "1\n"
     ]
    }
   ],
   "source": [
    "def isprime(n):\n",
    "    for i in range (2,n):\n",
    "        if(n%i==0):\n",
    "            return 0\n",
    "    return 1\n",
    "num1=int(input(\"请输入一个数\"))\n",
    "print(isprime(num1))\n",
    "    "
   ]
  },
  {
   "cell_type": "markdown",
   "metadata": {},
   "source": [
    "2.用Python实现插入排序该算法，不允许直接调用插入排序函数，需要手动实现其逻辑过程。"
   ]
  },
  {
   "cell_type": "code",
   "execution_count": 21,
   "metadata": {},
   "outputs": [
    {
     "name": "stdout",
     "output_type": "stream",
     "text": [
      "[1, 4, 5, 6, 7, 9]\n"
     ]
    }
   ],
   "source": [
    "def insertsort(arr):\n",
    "    l=len(arr)\n",
    "    for i in range (1,l):\n",
    "        temp=arr[i]\n",
    "        j=i-1\n",
    "        while(j>=0 and arr[j]>temp):\n",
    "            arr[j+1]=arr[j]\n",
    "            j-=1\n",
    "        arr[j+1]=temp\n",
    "    return arr\n",
    "arr = [1,9,7,5,6,4]\n",
    "sort_arr=insertsort(arr)\n",
    "print(sort_arr)\n",
    "            "
   ]
  },
  {
   "cell_type": "markdown",
   "metadata": {},
   "source": [
    "3.用Python实现选择排序该算法，不允许直接调用插入排序函数，需要手动实现其逻辑过程。"
   ]
  },
  {
   "cell_type": "code",
   "execution_count": 28,
   "metadata": {},
   "outputs": [
    {
     "name": "stdout",
     "output_type": "stream",
     "text": [
      "[1, 4, 5, 6, 7, 9]\n"
     ]
    }
   ],
   "source": [
    "def selectsort(arr):\n",
    "    l=len(arr)\n",
    "    for i in range (0,l-1):\n",
    "        min=i\n",
    "        for j in range (i+1,l):\n",
    "            if(arr[j]<arr[min]):\n",
    "                min=j\n",
    "        arr[i],arr[min]=arr[min],arr[i]\n",
    "    return arr\n",
    "arr = [1,9,7,5,6,4]\n",
    "sort_arr=selectsort(arr)\n",
    "print(sort_arr)\n",
    "            "
   ]
  },
  {
   "cell_type": "markdown",
   "metadata": {},
   "source": [
    "4.用Python实现快速排序该算法，不允许直接调用插入排序函数，需要手动实现其逻辑过程。"
   ]
  },
  {
   "cell_type": "code",
   "execution_count": 1,
   "metadata": {},
   "outputs": [
    {
     "name": "stdout",
     "output_type": "stream",
     "text": [
      "[1, 3, 4, 5, 6, 7, 9]\n"
     ]
    }
   ],
   "source": [
    "def partition(arr,l,r):\n",
    "    num=arr[r]\n",
    "    i=l-1\n",
    "    for j in range (l,r):\n",
    "        if(arr[j]<=num):\n",
    "            i+=1\n",
    "            arr[i],arr[j]=arr[j],arr[i]\n",
    "    arr[i+1],arr[r]=arr[r],arr[i+1]\n",
    "    return i+1\n",
    "def quicksort(arr,l,r):\n",
    "    if(l<r):\n",
    "        q=partition(arr,l,r)\n",
    "        quicksort(arr,l,q-1)\n",
    "        quicksort(arr,q+1,r)\n",
    "arr = [1,9,7,5,6,4,3]\n",
    "quicksort(arr,0,len(arr)-1)\n",
    "print(arr)"
   ]
  },
  {
   "cell_type": "markdown",
   "metadata": {},
   "source": [
    "5.使用 Python 随机生成三组长度递增的随机数列，长度分别为100、1000、10000，对生成的随机数组使用不同的排序算法，例如选择排序和归并排序，至少三种排序方法。对这些数列的数据排序，并分析不同排序算法在不同长度数列下的运行效果，例如运行时间等指标。"
   ]
  },
  {
   "cell_type": "code",
   "execution_count": 34,
   "metadata": {},
   "outputs": [
    {
     "name": "stdout",
     "output_type": "stream",
     "text": [
      "当数组长度为100时\n",
      "选择排序运行时间: 0.000000 秒\n",
      "快速排序运行时间: 0.000000 秒\n",
      "归并排序运行时间: 0.000000 秒\n",
      "\n",
      "\n",
      "当数组长度为1000时\n",
      "选择排序运行时间: 0.033296 秒\n",
      "快速排序运行时间: 0.000557 秒\n",
      "归并排序运行时间: 0.002508 秒\n",
      "\n",
      "\n",
      "当数组长度为10000时\n",
      "选择排序运行时间: 2.160129 秒\n",
      "快速排序运行时间: 0.011601 秒\n",
      "归并排序运行时间: 0.022411 秒\n"
     ]
    }
   ],
   "source": [
    "import random\n",
    "import time\n",
    "import sys\n",
    "sys.setrecursionlimit(100000)  # 增加递归深度限制\n",
    "\n",
    "def random_arr(n):\n",
    "    return [random.randint(0,20000) for _ in range(n)]\n",
    "\n",
    "def selectsort(arr):\n",
    "    l = len(arr)\n",
    "    for i in range(l-1):\n",
    "        min_idx = i\n",
    "        for j in range(i+1, l):\n",
    "            if arr[j] < arr[min_idx]:\n",
    "                min_idx = j\n",
    "        arr[i], arr[min_idx] = arr[min_idx], arr[i]\n",
    "    return arr\n",
    "\n",
    "def partition(arr, l, r):\n",
    "    num = arr[r]\n",
    "    i = l - 1\n",
    "    for j in range(l, r):\n",
    "        if arr[j] <= num:\n",
    "            i += 1\n",
    "            arr[i], arr[j] = arr[j], arr[i]\n",
    "    arr[i + 1], arr[r] = arr[r], arr[i + 1]\n",
    "    return i + 1\n",
    "\n",
    "def quicksort(arr, l, r):\n",
    "    if l < r:\n",
    "        q = partition(arr, l, r)\n",
    "        quicksort(arr, l, q - 1)\n",
    "        quicksort(arr, q + 1, r)\n",
    "\n",
    "def merge(arr, A, l, r, rend):\n",
    "    lend = r - 1\n",
    "    start = l\n",
    "    nums = rend - l + 1\n",
    "    while l <= lend and r <= rend:\n",
    "        if arr[l] < arr[r]:\n",
    "            A[start] = arr[l]\n",
    "            start += 1\n",
    "            l += 1\n",
    "        else:\n",
    "            A[start] = arr[r]\n",
    "            start += 1\n",
    "            r += 1\n",
    "    while l <= lend:\n",
    "        A[start] = arr[l]\n",
    "        start += 1\n",
    "        l += 1\n",
    "    while r <= rend:\n",
    "        A[start] = arr[r]\n",
    "        start += 1\n",
    "        r += 1\n",
    "    for i in range(nums):\n",
    "        arr[rend] = A[rend]\n",
    "        rend -= 1\n",
    "\n",
    "def mergesort(arr, A, l, r):\n",
    "    if l < r:\n",
    "        center = (l + r) // 2\n",
    "        mergesort(arr, A, l, center)\n",
    "        mergesort(arr, A, center + 1, r)\n",
    "        merge(arr, A, l, center + 1, r)\n",
    "\n",
    "def arr_sort_time(arr):\n",
    "    arr1 = arr[:]\n",
    "    arr2 = arr[:]\n",
    "    arr3 = arr[:]\n",
    "    A = [0] * len(arr)\n",
    "\n",
    "    start_time1 = time.time()\n",
    "    selectsort(arr1)\n",
    "    end_time1 = time.time()\n",
    "    execution_time1 = end_time1 - start_time1\n",
    "    print(f\"选择排序运行时间: {execution_time1:.6f} 秒\")\n",
    "\n",
    "    start_time2 = time.time()\n",
    "    quicksort(arr2, 0, len(arr2) - 1)\n",
    "    end_time2 = time.time()\n",
    "    execution_time2 = end_time2 - start_time2\n",
    "    print(f\"快速排序运行时间: {execution_time2:.6f} 秒\")\n",
    "\n",
    "    start_time3 = time.time()\n",
    "    mergesort(arr3, A, 0, len(arr3) - 1)\n",
    "    end_time3 = time.time()\n",
    "    execution_time3 = end_time3 - start_time3\n",
    "    print(f\"归并排序运行时间: {execution_time3:.6f} 秒\")\n",
    "\n",
    "\n",
    "arr_100 = random_arr(100)\n",
    "arr_1000 = random_arr(1000)\n",
    "arr_10000 = random_arr(10000)\n",
    "\n",
    "print(\"当数组长度为100时\")\n",
    "arr_sort_time(arr_100)\n",
    "print(\"\\n\")\n",
    "print(\"当数组长度为1000时\")\n",
    "arr_sort_time(arr_1000)\n",
    "print(\"\\n\")\n",
    "print(\"当数组长度为10000时\")\n",
    "arr_sort_time(arr_10000)\n"
   ]
  },
  {
   "cell_type": "markdown",
   "metadata": {},
   "source": [
    "#### 当数据规模比较小时，选择排序运行速度最快，归并排序运行速度最慢\n",
    "#### 当数据规模比较大时，快速排序和归并运行速度较快，选择排序运行速度最慢"
   ]
  },
  {
   "cell_type": "markdown",
   "metadata": {},
   "source": [
    "6.使用python代码获取当前系统时间"
   ]
  },
  {
   "cell_type": "code",
   "execution_count": 35,
   "metadata": {},
   "outputs": [
    {
     "name": "stdout",
     "output_type": "stream",
     "text": [
      "2024-10-15 14:50:44.028773\n"
     ]
    }
   ],
   "source": [
    "from datetime import datetime\n",
    "\n",
    "current_time = datetime.now()\n",
    "print(current_time)\n"
   ]
  },
  {
   "cell_type": "markdown",
   "metadata": {},
   "source": [
    "7.homework/data文件夹下的stuGrade.csv文件中包含5位同学的学号、语文成绩、数学成绩和英语成绩，请先用记事本打开该文件，查看文件内容，然后编写Python程序，读取该文件，并计算出各科的平均成绩（保留2位小数）。"
   ]
  },
  {
   "cell_type": "code",
   "execution_count": 41,
   "metadata": {},
   "outputs": [
    {
     "name": "stdout",
     "output_type": "stream",
     "text": [
      "语文平均成绩: 82.6\n",
      "数学平均成绩: 81.0\n",
      "英语平均成绩: 81.8\n",
      "成绩已成功写入my.txt文件！\n"
     ]
    }
   ],
   "source": [
    "import csv\n",
    "file_path = 'D:\\GIT1\\Homework\\src\\stuGrade.csv'\n",
    "chinese_total = 0\n",
    "math_total = 0\n",
    "english_total = 0\n",
    "student_count = 0\n",
    "with open(file_path, 'r', encoding='utf-8') as csvfile:\n",
    "    reader = csv.DictReader(csvfile)\n",
    "    for row in reader:\n",
    "        chinese_total += float(row['chinese'])\n",
    "        math_total += float(row['math'])\n",
    "        english_total += float(row['english'])\n",
    "        student_count += 1\n",
    "chinese_avg = round(chinese_total / student_count, 2)\n",
    "math_avg = round(math_total / student_count, 2)\n",
    "english_avg = round(english_total / student_count, 2)\n",
    "print(f\"语文平均成绩: {chinese_avg}\")\n",
    "print(f\"数学平均成绩: {math_avg}\")\n",
    "print(f\"英语平均成绩: {english_avg}\")\n",
    "\n",
    "with open('my.txt', 'w', encoding='utf-8') as f:\n",
    "    f.write(f\"语文平均成绩: {chinese_avg}\\n\")\n",
    "    f.write(f\"数学平均成绩: {math_avg}\\n\")\n",
    "    f.write(f\"英语平均成绩: {english_avg}\\n\")\n",
    "\n",
    "print(\"成绩已成功写入my.txt文件！\")\n"
   ]
  },
  {
   "cell_type": "markdown",
   "metadata": {},
   "source": [
    "8.请在第7题的代码继续编写Python程序，将以下内容写入my.txt文件中，一并上传到github中。"
   ]
  }
 ],
 "metadata": {
  "kernelspec": {
   "display_name": "base",
   "language": "python",
   "name": "python3"
  },
  "language_info": {
   "codemirror_mode": {
    "name": "ipython",
    "version": 3
   },
   "file_extension": ".py",
   "mimetype": "text/x-python",
   "name": "python",
   "nbconvert_exporter": "python",
   "pygments_lexer": "ipython3",
   "version": "3.11.5"
  }
 },
 "nbformat": 4,
 "nbformat_minor": 2
}
